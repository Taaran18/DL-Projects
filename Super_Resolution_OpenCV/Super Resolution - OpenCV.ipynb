{
 "cells": [
  {
   "cell_type": "markdown",
   "metadata": {},
   "source": [
    "## Import Modules\n"
   ]
  },
  {
   "cell_type": "code",
   "execution_count": 1,
   "metadata": {},
   "outputs": [],
   "source": [
    "# type: ignore\n",
    "\n",
    "import cv2\n",
    "from cv2 import dnn_superres"
   ]
  },
  {
   "cell_type": "code",
   "execution_count": null,
   "metadata": {},
   "outputs": [],
   "source": [
    "# Links to Download Models\n",
    "\n",
    "!https://github.com/Saafke/EDSR_Tensorflow/blob/master/models/\n",
    "!https://github.com/fannymonori/TF-LapSRN/blob/master/export/LapSRN_x8.pb"
   ]
  },
  {
   "cell_type": "markdown",
   "metadata": {},
   "source": [
    "## EDSR\n"
   ]
  },
  {
   "cell_type": "code",
   "execution_count": 2,
   "metadata": {},
   "outputs": [],
   "source": [
    "# Initialize Super Resolution Object\n",
    "sr = dnn_superres.DnnSuperResImpl_create()\n",
    "\n",
    "path = \"EDSR_x4.pb\"\n",
    "sr.readModel(path)\n",
    "sr.setModel(\"edsr\", 4)"
   ]
  },
  {
   "cell_type": "code",
   "execution_count": 3,
   "metadata": {},
   "outputs": [],
   "source": [
    "# CUDA Support\n",
    "\n",
    "sr.setPreferableBackend(cv2.dnn.DNN_BACKEND_CUDA)\n",
    "sr.setPreferableTarget(cv2.dnn.DNN_TARGET_CUDA)"
   ]
  },
  {
   "cell_type": "code",
   "execution_count": 4,
   "metadata": {},
   "outputs": [],
   "source": [
    "# Load the Image\n",
    "\n",
    "image = cv2.imread(\"test.png\")"
   ]
  },
  {
   "cell_type": "code",
   "execution_count": 5,
   "metadata": {},
   "outputs": [
    {
     "data": {
      "text/plain": [
       "True"
      ]
     },
     "execution_count": 5,
     "metadata": {},
     "output_type": "execute_result"
    }
   ],
   "source": [
    "# Upsample the Image and Save it\n",
    "\n",
    "upscaled = sr.upsample(image)\n",
    "cv2.imwrite(\"upscaled_test.png\", upscaled)"
   ]
  },
  {
   "cell_type": "code",
   "execution_count": 6,
   "metadata": {},
   "outputs": [
    {
     "data": {
      "text/plain": [
       "True"
      ]
     },
     "execution_count": 6,
     "metadata": {},
     "output_type": "execute_result"
    }
   ],
   "source": [
    "# Traditional Method - Bicubic\n",
    "\n",
    "bicubic = cv2.resize(\n",
    "    image, (upscaled.shape[1], upscaled.shape[0]), interpolation=cv2.INTER_CUBIC\n",
    ")\n",
    "cv2.imwrite(\"bicubic_test.png\", bicubic)"
   ]
  },
  {
   "cell_type": "markdown",
   "metadata": {},
   "source": [
    "## LapSRN\n"
   ]
  },
  {
   "cell_type": "code",
   "execution_count": 7,
   "metadata": {},
   "outputs": [],
   "source": [
    "# Initialize Super Resolution Object\n",
    "\n",
    "sr = dnn_superres.DnnSuperResImpl_create()\n",
    "\n",
    "path = \"LapSRN_x8.pb\"\n",
    "sr.readModel(path)\n",
    "sr.setModel(\"lapsrn\", 8)"
   ]
  },
  {
   "cell_type": "code",
   "execution_count": 8,
   "metadata": {},
   "outputs": [],
   "source": [
    "# CUDA Support\n",
    "\n",
    "sr.setPreferableBackend(cv2.dnn.DNN_BACKEND_CUDA)\n",
    "sr.setPreferableTarget(cv2.dnn.DNN_TARGET_CUDA)"
   ]
  },
  {
   "cell_type": "code",
   "execution_count": 9,
   "metadata": {},
   "outputs": [],
   "source": [
    "# Load the Image\n",
    "\n",
    "image = cv2.imread(\"test.png\")"
   ]
  },
  {
   "cell_type": "code",
   "execution_count": 10,
   "metadata": {},
   "outputs": [
    {
     "data": {
      "text/plain": [
       "True"
      ]
     },
     "execution_count": 10,
     "metadata": {},
     "output_type": "execute_result"
    }
   ],
   "source": [
    "# Upsample the Image and Save it\n",
    "\n",
    "upscaled = sr.upsample(image)\n",
    "cv2.imwrite(\"upscaled_test_lapsrn.png\", upscaled)"
   ]
  },
  {
   "cell_type": "code",
   "execution_count": 11,
   "metadata": {},
   "outputs": [
    {
     "data": {
      "text/plain": [
       "True"
      ]
     },
     "execution_count": 11,
     "metadata": {},
     "output_type": "execute_result"
    }
   ],
   "source": [
    "# Traditional Method - Bicubic\n",
    "\n",
    "bicubic = cv2.resize(\n",
    "    image, (upscaled.shape[1], upscaled.shape[0]), interpolation=cv2.INTER_CUBIC\n",
    ")\n",
    "cv2.imwrite(\"bicubic_test_8x.png\", bicubic)"
   ]
  },
  {
   "cell_type": "markdown",
   "metadata": {},
   "source": [
    "---\n"
   ]
  }
 ],
 "metadata": {
  "kernelspec": {
   "display_name": "Python 3",
   "language": "python",
   "name": "python3"
  },
  "language_info": {
   "codemirror_mode": {
    "name": "ipython",
    "version": 3
   },
   "file_extension": ".py",
   "mimetype": "text/x-python",
   "name": "python",
   "nbconvert_exporter": "python",
   "pygments_lexer": "ipython3",
   "version": "3.8.3"
  }
 },
 "nbformat": 4,
 "nbformat_minor": 4
}
